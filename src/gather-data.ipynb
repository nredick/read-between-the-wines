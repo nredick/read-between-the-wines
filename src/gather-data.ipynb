{
 "cells": [
  {
   "cell_type": "markdown",
   "metadata": {},
   "source": [
    "# Read Between the Wines \n",
    "\n",
    "## Imports"
   ]
  },
  {
   "cell_type": "code",
   "execution_count": 1,
   "metadata": {},
   "outputs": [],
   "source": [
    "import ee # import the earth engine api \n",
    "import kaggle\n",
    "import datetime\n",
    "import folium"
   ]
  },
  {
   "cell_type": "markdown",
   "metadata": {},
   "source": [
    "## Retrieve the data\n",
    "\n",
    "### Download the wine data"
   ]
  },
  {
   "cell_type": "code",
   "execution_count": 2,
   "metadata": {},
   "outputs": [
    {
     "name": "stdout",
     "output_type": "stream",
     "text": [
      "Downloading wine-reviews.zip to /Users/nathalieredick/repos/hackathons/read-between-the-wines/src\n",
      "100%|██████████████████████████████████████| 50.9M/50.9M [00:02<00:00, 25.9MB/s]\n",
      "100%|██████████████████████████████████████| 50.9M/50.9M [00:02<00:00, 24.6MB/s]\n",
      "Archive:  wine-reviews.zip\n",
      "  inflating: winemag-data-130k-v2.csv  \n",
      "  inflating: winemag-data-130k-v2.json  \n",
      "  inflating: winemag-data_first150k.csv  \n"
     ]
    }
   ],
   "source": [
    "!sh ../scripts/download-data.sh"
   ]
  },
  {
   "cell_type": "markdown",
   "metadata": {},
   "source": [
    "### Download the Google Earth Engine data"
   ]
  },
  {
   "cell_type": "code",
   "execution_count": 4,
   "metadata": {},
   "outputs": [
    {
     "data": {
      "text/html": [
       "<p>To authorize access needed by Earth Engine, open the following\n",
       "        URL in a web browser and follow the instructions:</p>\n",
       "        <p><a href=https://code.earthengine.google.com/client-auth?scopes=https%3A//www.googleapis.com/auth/earthengine%20https%3A//www.googleapis.com/auth/devstorage.full_control&request_id=xDfQ6m7izcKrP7JviTtPyZDzhGeskOBwcAhu_RCUUng&tc=qtzf_XRFkiigr_0eZwNLYPQhEAPtHJ9NB-5y5BhryPg&cc=yrn7CD9mFLw9uoxPN6V-D26EDgLeYp0M2LHltoOli6o>https://code.earthengine.google.com/client-auth?scopes=https%3A//www.googleapis.com/auth/earthengine%20https%3A//www.googleapis.com/auth/devstorage.full_control&request_id=xDfQ6m7izcKrP7JviTtPyZDzhGeskOBwcAhu_RCUUng&tc=qtzf_XRFkiigr_0eZwNLYPQhEAPtHJ9NB-5y5BhryPg&cc=yrn7CD9mFLw9uoxPN6V-D26EDgLeYp0M2LHltoOli6o</a></p>\n",
       "        <p>The authorization workflow will generate a code, which you should paste in the box below.</p>\n",
       "        "
      ],
      "text/plain": [
       "<IPython.core.display.HTML object>"
      ]
     },
     "metadata": {},
     "output_type": "display_data"
    },
    {
     "name": "stdout",
     "output_type": "stream",
     "text": [
      "\n",
      "Successfully saved authorization token.\n"
     ]
    }
   ],
   "source": [
    "# authenticate & init google earth engine\n",
    "ee.Authenticate()\n",
    "ee.Initialize()"
   ]
  },
  {
   "cell_type": "code",
   "execution_count": 5,
   "metadata": {},
   "outputs": [
    {
     "ename": "NameError",
     "evalue": "name 'plot' is not defined",
     "output_type": "error",
     "traceback": [
      "\u001b[0;31m---------------------------------------------------------------------------\u001b[0m",
      "\u001b[0;31mNameError\u001b[0m                                 Traceback (most recent call last)",
      "Cell \u001b[0;32mIn [5], line 11\u001b[0m\n\u001b[1;32m      3\u001b[0m img_collection \u001b[38;5;241m=\u001b[39m ee\u001b[38;5;241m.\u001b[39mImageCollection(\u001b[38;5;124m\"\u001b[39m\u001b[38;5;124mECMWF/ERA5_LAND/MONTHLY\u001b[39m\u001b[38;5;124m\"\u001b[39m)\n\u001b[1;32m      5\u001b[0m first \u001b[38;5;241m=\u001b[39m (img_collection\n\u001b[1;32m      6\u001b[0m          \u001b[38;5;241m.\u001b[39mfilterBounds(ee\u001b[38;5;241m.\u001b[39mGeometry\u001b[38;5;241m.\u001b[39mPoint(\u001b[38;5;241m-\u001b[39m\u001b[38;5;241m70.48\u001b[39m, \u001b[38;5;241m43.3631\u001b[39m)) \u001b[38;5;66;03m# filter by location\u001b[39;00m\n\u001b[1;32m      7\u001b[0m          \u001b[38;5;241m.\u001b[39mfilterDate(\u001b[38;5;124m'\u001b[39m\u001b[38;5;124m2019-01-01\u001b[39m\u001b[38;5;124m'\u001b[39m, \u001b[38;5;124m'\u001b[39m\u001b[38;5;124m2019-12-31\u001b[39m\u001b[38;5;124m'\u001b[39m) \u001b[38;5;66;03m# filter by date\u001b[39;00m\n\u001b[1;32m      8\u001b[0m          \u001b[38;5;241m.\u001b[39msort(\u001b[38;5;124m'\u001b[39m\u001b[38;5;124mCLOUDY_PIXEL_PERCENTAGE\u001b[39m\u001b[38;5;124m'\u001b[39m) \u001b[38;5;66;03m# get the least cloudy image\u001b[39;00m\n\u001b[1;32m      9\u001b[0m          \u001b[38;5;241m.\u001b[39mfirst())\n\u001b[0;32m---> 11\u001b[0m plot(first)\n",
      "\u001b[0;31mNameError\u001b[0m: name 'plot' is not defined"
     ]
    }
   ],
   "source": [
    "import geemap\n",
    "\n",
    "img_collection = ee.ImageCollection(\"ECMWF/ERA5_LAND/MONTHLY\")\n",
    "\n",
    "first = (img_collection\n",
    "         .filterBounds(ee.Geometry.Point(-70.48, 43.3631)) # filter by location\n",
    "         .filterDate('2019-01-01', '2019-12-31') # filter by date\n",
    "         .sort('CLOUDY_PIXEL_PERCENTAGE') # get the least cloudy image\n",
    "         .first())\n",
    "\n",
    "plt(first)"
   ]
  }
 ],
 "metadata": {
  "kernelspec": {
   "display_name": "Python 3.10.7 ('venv_maishacks2022': venv)",
   "language": "python",
   "name": "python3"
  },
  "language_info": {
   "codemirror_mode": {
    "name": "ipython",
    "version": 3
   },
   "file_extension": ".py",
   "mimetype": "text/x-python",
   "name": "python",
   "nbconvert_exporter": "python",
   "pygments_lexer": "ipython3",
   "version": "3.10.7"
  },
  "orig_nbformat": 4,
  "vscode": {
   "interpreter": {
    "hash": "657894272d936dd1ee3def6bb24c2dbe0678636822caddc675a94742841edad9"
   }
  }
 },
 "nbformat": 4,
 "nbformat_minor": 2
}
